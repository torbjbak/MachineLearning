{
 "cells": [
  {
   "cell_type": "markdown",
   "id": "a0a90182",
   "metadata": {},
   "source": [
    "# <center>Øving 1</center>\n",
    "Torbjørn Bakke\n",
    "### a)"
   ]
  },
  {
   "cell_type": "code",
   "execution_count": 10,
   "id": "01f7a133",
   "metadata": {},
   "outputs": [],
   "source": [
    "# Import relevant libraries\n",
    "import torch\n",
    "import matplotlib.pyplot as plt\n",
    "import pandas as pd\n",
    "import numpy as np"
   ]
  },
  {
   "cell_type": "code",
   "execution_count": 11,
   "id": "5eb3395b",
   "metadata": {},
   "outputs": [],
   "source": [
    "# Import data from file\n",
    "lwData = pd.read_csv(\"length_weight.csv\", names=['length', 'weight'])\n",
    "\n",
    "lengthsA = lwData['length'][1:].astype(np.float32).values\n",
    "weightsA = lwData['weight'][1:].astype(np.float32).values\n",
    "\n",
    "x_trainA = torch.tensor(lengthsA).reshape(-1, 1)\n",
    "y_trainA = torch.tensor(weightsA).reshape(-1, 1)"
   ]
  },
  {
   "cell_type": "code",
   "execution_count": 12,
   "id": "4126e2ba",
   "metadata": {},
   "outputs": [],
   "source": [
    "# Create linear regression model\n",
    "class LinearRegressionModel:\n",
    "    def __init__(self):\n",
    "        self.W = torch.tensor([[0.0]], requires_grad=True)  \n",
    "        self.b = torch.tensor([[0.0]], requires_grad=True)\n",
    "\n",
    "    def f(self, x):\n",
    "        return x @ self.W + self.b  \n",
    "\n",
    "    def loss(self, x, y):\n",
    "        return torch.mean(torch.square(self.f(x) - y))\n",
    "    \n",
    "model = LinearRegressionModel()"
   ]
  },
  {
   "cell_type": "code",
   "execution_count": 33,
   "id": "2ea9bfd7",
   "metadata": {},
   "outputs": [
    {
     "name": "stdout",
     "output_type": "stream",
     "text": [
      "W = tensor([[nan]], requires_grad=True), b = tensor([[nan]], requires_grad=True), loss = tensor(nan, grad_fn=<MeanBackward0>)\n",
      "W = tensor([[nan]], requires_grad=True), b = tensor([[nan]], requires_grad=True), loss = tensor(nan, grad_fn=<MeanBackward0>)\n",
      "W = tensor([[nan]], requires_grad=True), b = tensor([[nan]], requires_grad=True), loss = tensor(nan, grad_fn=<MeanBackward0>)\n",
      "W = tensor([[nan]], requires_grad=True), b = tensor([[nan]], requires_grad=True), loss = tensor(nan, grad_fn=<MeanBackward0>)\n",
      "W = tensor([[nan]], requires_grad=True), b = tensor([[nan]], requires_grad=True), loss = tensor(nan, grad_fn=<MeanBackward0>)\n",
      "W = tensor([[nan]], requires_grad=True), b = tensor([[nan]], requires_grad=True), loss = tensor(nan, grad_fn=<MeanBackward0>)\n",
      "W = tensor([[nan]], requires_grad=True), b = tensor([[nan]], requires_grad=True), loss = tensor(nan, grad_fn=<MeanBackward0>)\n",
      "W = tensor([[nan]], requires_grad=True), b = tensor([[nan]], requires_grad=True), loss = tensor(nan, grad_fn=<MeanBackward0>)\n",
      "W = tensor([[nan]], requires_grad=True), b = tensor([[nan]], requires_grad=True), loss = tensor(nan, grad_fn=<MeanBackward0>)\n",
      "W = tensor([[nan]], requires_grad=True), b = tensor([[nan]], requires_grad=True), loss = tensor(nan, grad_fn=<MeanBackward0>)\n",
      "W = tensor([[nan]], requires_grad=True), b = tensor([[nan]], requires_grad=True), loss = tensor(nan, grad_fn=<MeanBackward0>)\n",
      "W = tensor([[nan]], requires_grad=True), b = tensor([[nan]], requires_grad=True), loss = tensor(nan, grad_fn=<MeanBackward0>)\n",
      "W = tensor([[nan]], requires_grad=True), b = tensor([[nan]], requires_grad=True), loss = tensor(nan, grad_fn=<MeanBackward0>)\n",
      "W = tensor([[nan]], requires_grad=True), b = tensor([[nan]], requires_grad=True), loss = tensor(nan, grad_fn=<MeanBackward0>)\n",
      "W = tensor([[nan]], requires_grad=True), b = tensor([[nan]], requires_grad=True), loss = tensor(nan, grad_fn=<MeanBackward0>)\n",
      "W = tensor([[nan]], requires_grad=True), b = tensor([[nan]], requires_grad=True), loss = tensor(nan, grad_fn=<MeanBackward0>)\n",
      "W = tensor([[nan]], requires_grad=True), b = tensor([[nan]], requires_grad=True), loss = tensor(nan, grad_fn=<MeanBackward0>)\n",
      "W = tensor([[nan]], requires_grad=True), b = tensor([[nan]], requires_grad=True), loss = tensor(nan, grad_fn=<MeanBackward0>)\n",
      "W = tensor([[nan]], requires_grad=True), b = tensor([[nan]], requires_grad=True), loss = tensor(nan, grad_fn=<MeanBackward0>)\n",
      "W = tensor([[nan]], requires_grad=True), b = tensor([[nan]], requires_grad=True), loss = tensor(nan, grad_fn=<MeanBackward0>)\n",
      "W = tensor([[nan]], requires_grad=True), b = tensor([[nan]], requires_grad=True), loss = tensor(nan, grad_fn=<MeanBackward0>)\n",
      "W = tensor([[nan]], requires_grad=True), b = tensor([[nan]], requires_grad=True), loss = tensor(nan, grad_fn=<MeanBackward0>)\n",
      "W = tensor([[nan]], requires_grad=True), b = tensor([[nan]], requires_grad=True), loss = tensor(nan, grad_fn=<MeanBackward0>)\n",
      "W = tensor([[nan]], requires_grad=True), b = tensor([[nan]], requires_grad=True), loss = tensor(nan, grad_fn=<MeanBackward0>)\n",
      "W = tensor([[nan]], requires_grad=True), b = tensor([[nan]], requires_grad=True), loss = tensor(nan, grad_fn=<MeanBackward0>)\n",
      "W = tensor([[nan]], requires_grad=True), b = tensor([[nan]], requires_grad=True), loss = tensor(nan, grad_fn=<MeanBackward0>)\n",
      "W = tensor([[nan]], requires_grad=True), b = tensor([[nan]], requires_grad=True), loss = tensor(nan, grad_fn=<MeanBackward0>)\n",
      "W = tensor([[nan]], requires_grad=True), b = tensor([[nan]], requires_grad=True), loss = tensor(nan, grad_fn=<MeanBackward0>)\n",
      "W = tensor([[nan]], requires_grad=True), b = tensor([[nan]], requires_grad=True), loss = tensor(nan, grad_fn=<MeanBackward0>)\n",
      "W = tensor([[nan]], requires_grad=True), b = tensor([[nan]], requires_grad=True), loss = tensor(nan, grad_fn=<MeanBackward0>)\n",
      "W = tensor([[nan]], requires_grad=True), b = tensor([[nan]], requires_grad=True), loss = tensor(nan, grad_fn=<MeanBackward0>)\n",
      "W = tensor([[nan]], requires_grad=True), b = tensor([[nan]], requires_grad=True), loss = tensor(nan, grad_fn=<MeanBackward0>)\n",
      "W = tensor([[nan]], requires_grad=True), b = tensor([[nan]], requires_grad=True), loss = tensor(nan, grad_fn=<MeanBackward0>)\n",
      "W = tensor([[nan]], requires_grad=True), b = tensor([[nan]], requires_grad=True), loss = tensor(nan, grad_fn=<MeanBackward0>)\n",
      "W = tensor([[nan]], requires_grad=True), b = tensor([[nan]], requires_grad=True), loss = tensor(nan, grad_fn=<MeanBackward0>)\n",
      "W = tensor([[nan]], requires_grad=True), b = tensor([[nan]], requires_grad=True), loss = tensor(nan, grad_fn=<MeanBackward0>)\n",
      "W = tensor([[nan]], requires_grad=True), b = tensor([[nan]], requires_grad=True), loss = tensor(nan, grad_fn=<MeanBackward0>)\n",
      "W = tensor([[nan]], requires_grad=True), b = tensor([[nan]], requires_grad=True), loss = tensor(nan, grad_fn=<MeanBackward0>)\n",
      "W = tensor([[nan]], requires_grad=True), b = tensor([[nan]], requires_grad=True), loss = tensor(nan, grad_fn=<MeanBackward0>)\n",
      "W = tensor([[nan]], requires_grad=True), b = tensor([[nan]], requires_grad=True), loss = tensor(nan, grad_fn=<MeanBackward0>)\n",
      "W = tensor([[nan]], requires_grad=True), b = tensor([[nan]], requires_grad=True), loss = tensor(nan, grad_fn=<MeanBackward0>)\n",
      "W = tensor([[nan]], requires_grad=True), b = tensor([[nan]], requires_grad=True), loss = tensor(nan, grad_fn=<MeanBackward0>)\n",
      "W = tensor([[nan]], requires_grad=True), b = tensor([[nan]], requires_grad=True), loss = tensor(nan, grad_fn=<MeanBackward0>)\n",
      "W = tensor([[nan]], requires_grad=True), b = tensor([[nan]], requires_grad=True), loss = tensor(nan, grad_fn=<MeanBackward0>)\n",
      "W = tensor([[nan]], requires_grad=True), b = tensor([[nan]], requires_grad=True), loss = tensor(nan, grad_fn=<MeanBackward0>)\n",
      "W = tensor([[nan]], requires_grad=True), b = tensor([[nan]], requires_grad=True), loss = tensor(nan, grad_fn=<MeanBackward0>)\n",
      "W = tensor([[nan]], requires_grad=True), b = tensor([[nan]], requires_grad=True), loss = tensor(nan, grad_fn=<MeanBackward0>)\n",
      "W = tensor([[nan]], requires_grad=True), b = tensor([[nan]], requires_grad=True), loss = tensor(nan, grad_fn=<MeanBackward0>)\n",
      "W = tensor([[nan]], requires_grad=True), b = tensor([[nan]], requires_grad=True), loss = tensor(nan, grad_fn=<MeanBackward0>)\n",
      "W = tensor([[nan]], requires_grad=True), b = tensor([[nan]], requires_grad=True), loss = tensor(nan, grad_fn=<MeanBackward0>)\n",
      "W = tensor([[nan]], requires_grad=True), b = tensor([[nan]], requires_grad=True), loss = tensor(nan, grad_fn=<MeanBackward0>)\n",
      "W = tensor([[nan]], requires_grad=True), b = tensor([[nan]], requires_grad=True), loss = tensor(nan, grad_fn=<MeanBackward0>)\n",
      "W = tensor([[nan]], requires_grad=True), b = tensor([[nan]], requires_grad=True), loss = tensor(nan, grad_fn=<MeanBackward0>)\n",
      "W = tensor([[nan]], requires_grad=True), b = tensor([[nan]], requires_grad=True), loss = tensor(nan, grad_fn=<MeanBackward0>)\n",
      "W = tensor([[nan]], requires_grad=True), b = tensor([[nan]], requires_grad=True), loss = tensor(nan, grad_fn=<MeanBackward0>)\n",
      "W = tensor([[nan]], requires_grad=True), b = tensor([[nan]], requires_grad=True), loss = tensor(nan, grad_fn=<MeanBackward0>)\n",
      "W = tensor([[nan]], requires_grad=True), b = tensor([[nan]], requires_grad=True), loss = tensor(nan, grad_fn=<MeanBackward0>)\n",
      "W = tensor([[nan]], requires_grad=True), b = tensor([[nan]], requires_grad=True), loss = tensor(nan, grad_fn=<MeanBackward0>)\n",
      "W = tensor([[nan]], requires_grad=True), b = tensor([[nan]], requires_grad=True), loss = tensor(nan, grad_fn=<MeanBackward0>)\n",
      "W = tensor([[nan]], requires_grad=True), b = tensor([[nan]], requires_grad=True), loss = tensor(nan, grad_fn=<MeanBackward0>)\n",
      "W = tensor([[nan]], requires_grad=True), b = tensor([[nan]], requires_grad=True), loss = tensor(nan, grad_fn=<MeanBackward0>)\n",
      "W = tensor([[nan]], requires_grad=True), b = tensor([[nan]], requires_grad=True), loss = tensor(nan, grad_fn=<MeanBackward0>)\n",
      "W = tensor([[nan]], requires_grad=True), b = tensor([[nan]], requires_grad=True), loss = tensor(nan, grad_fn=<MeanBackward0>)\n",
      "W = tensor([[nan]], requires_grad=True), b = tensor([[nan]], requires_grad=True), loss = tensor(nan, grad_fn=<MeanBackward0>)\n",
      "W = tensor([[nan]], requires_grad=True), b = tensor([[nan]], requires_grad=True), loss = tensor(nan, grad_fn=<MeanBackward0>)\n",
      "W = tensor([[nan]], requires_grad=True), b = tensor([[nan]], requires_grad=True), loss = tensor(nan, grad_fn=<MeanBackward0>)\n",
      "W = tensor([[nan]], requires_grad=True), b = tensor([[nan]], requires_grad=True), loss = tensor(nan, grad_fn=<MeanBackward0>)\n",
      "W = tensor([[nan]], requires_grad=True), b = tensor([[nan]], requires_grad=True), loss = tensor(nan, grad_fn=<MeanBackward0>)\n",
      "W = tensor([[nan]], requires_grad=True), b = tensor([[nan]], requires_grad=True), loss = tensor(nan, grad_fn=<MeanBackward0>)\n",
      "W = tensor([[nan]], requires_grad=True), b = tensor([[nan]], requires_grad=True), loss = tensor(nan, grad_fn=<MeanBackward0>)\n",
      "W = tensor([[nan]], requires_grad=True), b = tensor([[nan]], requires_grad=True), loss = tensor(nan, grad_fn=<MeanBackward0>)\n",
      "W = tensor([[nan]], requires_grad=True), b = tensor([[nan]], requires_grad=True), loss = tensor(nan, grad_fn=<MeanBackward0>)\n",
      "W = tensor([[nan]], requires_grad=True), b = tensor([[nan]], requires_grad=True), loss = tensor(nan, grad_fn=<MeanBackward0>)\n",
      "W = tensor([[nan]], requires_grad=True), b = tensor([[nan]], requires_grad=True), loss = tensor(nan, grad_fn=<MeanBackward0>)\n",
      "W = tensor([[nan]], requires_grad=True), b = tensor([[nan]], requires_grad=True), loss = tensor(nan, grad_fn=<MeanBackward0>)\n",
      "W = tensor([[nan]], requires_grad=True), b = tensor([[nan]], requires_grad=True), loss = tensor(nan, grad_fn=<MeanBackward0>)\n",
      "W = tensor([[nan]], requires_grad=True), b = tensor([[nan]], requires_grad=True), loss = tensor(nan, grad_fn=<MeanBackward0>)\n",
      "W = tensor([[nan]], requires_grad=True), b = tensor([[nan]], requires_grad=True), loss = tensor(nan, grad_fn=<MeanBackward0>)\n",
      "W = tensor([[nan]], requires_grad=True), b = tensor([[nan]], requires_grad=True), loss = tensor(nan, grad_fn=<MeanBackward0>)\n",
      "W = tensor([[nan]], requires_grad=True), b = tensor([[nan]], requires_grad=True), loss = tensor(nan, grad_fn=<MeanBackward0>)\n",
      "W = tensor([[nan]], requires_grad=True), b = tensor([[nan]], requires_grad=True), loss = tensor(nan, grad_fn=<MeanBackward0>)\n",
      "W = tensor([[nan]], requires_grad=True), b = tensor([[nan]], requires_grad=True), loss = tensor(nan, grad_fn=<MeanBackward0>)\n",
      "W = tensor([[nan]], requires_grad=True), b = tensor([[nan]], requires_grad=True), loss = tensor(nan, grad_fn=<MeanBackward0>)\n",
      "W = tensor([[nan]], requires_grad=True), b = tensor([[nan]], requires_grad=True), loss = tensor(nan, grad_fn=<MeanBackward0>)\n",
      "W = tensor([[nan]], requires_grad=True), b = tensor([[nan]], requires_grad=True), loss = tensor(nan, grad_fn=<MeanBackward0>)\n",
      "W = tensor([[nan]], requires_grad=True), b = tensor([[nan]], requires_grad=True), loss = tensor(nan, grad_fn=<MeanBackward0>)\n",
      "W = tensor([[nan]], requires_grad=True), b = tensor([[nan]], requires_grad=True), loss = tensor(nan, grad_fn=<MeanBackward0>)\n",
      "W = tensor([[nan]], requires_grad=True), b = tensor([[nan]], requires_grad=True), loss = tensor(nan, grad_fn=<MeanBackward0>)\n",
      "W = tensor([[nan]], requires_grad=True), b = tensor([[nan]], requires_grad=True), loss = tensor(nan, grad_fn=<MeanBackward0>)\n",
      "W = tensor([[nan]], requires_grad=True), b = tensor([[nan]], requires_grad=True), loss = tensor(nan, grad_fn=<MeanBackward0>)\n",
      "W = tensor([[nan]], requires_grad=True), b = tensor([[nan]], requires_grad=True), loss = tensor(nan, grad_fn=<MeanBackward0>)\n",
      "W = tensor([[nan]], requires_grad=True), b = tensor([[nan]], requires_grad=True), loss = tensor(nan, grad_fn=<MeanBackward0>)\n",
      "W = tensor([[nan]], requires_grad=True), b = tensor([[nan]], requires_grad=True), loss = tensor(nan, grad_fn=<MeanBackward0>)\n",
      "W = tensor([[nan]], requires_grad=True), b = tensor([[nan]], requires_grad=True), loss = tensor(nan, grad_fn=<MeanBackward0>)\n",
      "W = tensor([[nan]], requires_grad=True), b = tensor([[nan]], requires_grad=True), loss = tensor(nan, grad_fn=<MeanBackward0>)\n",
      "W = tensor([[nan]], requires_grad=True), b = tensor([[nan]], requires_grad=True), loss = tensor(nan, grad_fn=<MeanBackward0>)\n",
      "W = tensor([[nan]], requires_grad=True), b = tensor([[nan]], requires_grad=True), loss = tensor(nan, grad_fn=<MeanBackward0>)\n",
      "W = tensor([[nan]], requires_grad=True), b = tensor([[nan]], requires_grad=True), loss = tensor(nan, grad_fn=<MeanBackward0>)\n",
      "W = tensor([[nan]], requires_grad=True), b = tensor([[nan]], requires_grad=True), loss = tensor(nan, grad_fn=<MeanBackward0>)\n",
      "W = tensor([[nan]], requires_grad=True), b = tensor([[nan]], requires_grad=True), loss = tensor(nan, grad_fn=<MeanBackward0>)\n"
     ]
    }
   ],
   "source": [
    "# Optimize: adjust W and b to minimize loss using stochastic gradient descent\n",
    "optimizer = torch.optim.SGD([model.W, model.b], 0.01)\n",
    "for epoch in range(100):\n",
    "    model.loss(x_trainA, y_trainA).backward()\n",
    "    optimizer.step()\n",
    "    print(\"W = %s, b = %s, loss = %s\" \n",
    "      % (model.W, model.b, model.loss(x_trainA, y_trainA)))\n",
    "    optimizer.zero_grad()"
   ]
  },
  {
   "cell_type": "code",
   "execution_count": 32,
   "id": "b52c4f31",
   "metadata": {},
   "outputs": [
    {
     "name": "stdout",
     "output_type": "stream",
     "text": [
      "tensor([[0.]])\n",
      "W = tensor([[nan]], requires_grad=True), b = tensor([[nan]], requires_grad=True), loss = tensor(nan, grad_fn=<MeanBackward0>)\n"
     ]
    }
   ],
   "source": [
    "# Print model variables and loss\n",
    "print(\"W = %s, b = %s, loss = %s\" \n",
    "      % (model.W, model.b, model.loss(x_trainA, y_trainA)))"
   ]
  },
  {
   "cell_type": "code",
   "execution_count": 7,
   "id": "a18bcb8b",
   "metadata": {},
   "outputs": [
    {
     "data": {
      "image/png": "[encoded data removed]",
      "text/plain": [
       "<Figure size 432x288 with 1 Axes>"
      ]
     },
     "metadata": {
      "needs_background": "light"
     },
     "output_type": "display_data"
    }
   ],
   "source": [
    "# Visualize result\n",
    "plt.plot(x_trainA, y_trainA, 'o', label='$(x^{(i)},y^{(i)})$')\n",
    "plt.xlabel('x')\n",
    "plt.ylabel('y')\n",
    "x = torch.tensor([[torch.min(x_trainA)], [torch.max(x_trainA)]])  # x = [[1], [6]]]\n",
    "plt.plot(x, model.f(x).detach(), label='$\\\\hat y = f(x) = xW+b$')\n",
    "plt.legend()\n",
    "plt.show()"
   ]
  },
  {
   "cell_type": "code",
   "execution_count": null,
   "id": "2a03978b",
   "metadata": {},
   "outputs": [],
   "source": []
  }
 ],
 "metadata": {
  "kernelspec": {
   "display_name": "Python 3 (ipykernel)",
   "language": "python",
   "name": "python3"
  },
  "language_info": {
   "codemirror_mode": {
    "name": "ipython",
    "version": 3
   },
   "file_extension": ".py",
   "mimetype": "text/x-python",
   "name": "python",
   "nbconvert_exporter": "python",
   "pygments_lexer": "ipython3",
   "version": "3.9.4"
  }
 },
 "nbformat": 4,
 "nbformat_minor": 5
}
